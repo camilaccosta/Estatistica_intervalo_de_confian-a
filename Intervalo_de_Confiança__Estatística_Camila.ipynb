{
  "nbformat": 4,
  "nbformat_minor": 0,
  "metadata": {
    "colab": {
      "name": "Intervalo de Confiança_ Estatística_Camila.ipynb",
      "provenance": [],
      "collapsed_sections": [
        "ouPsH2O79-Zp",
        "RX0PedBR_kOW",
        "MLVVxj0n_vkg",
        "LMI4QIwf_3b9",
        "IhzMI6Db_9zY",
        "Kt-umIssAGRQ"
      ]
    },
    "kernelspec": {
      "name": "python3",
      "display_name": "Python 3"
    },
    "language_info": {
      "name": "python"
    }
  },
  "cells": [
    {
      "cell_type": "code",
      "metadata": {
        "id": "YHTGczToXlwn"
      },
      "source": [
        "# Primeiro passo: importar as bibliotecas necessárias.\n",
        "\n",
        "import numpy as np\n",
        "from scipy.stats import norm\n",
        "from scipy.stats import t as t_student"
      ],
      "execution_count": 29,
      "outputs": []
    },
    {
      "cell_type": "markdown",
      "metadata": {
        "id": "gUf98Hx3gegM"
      },
      "source": [
        " **Intervalo de confiança para a média da população**"
      ]
    },
    {
      "cell_type": "markdown",
      "metadata": {
        "id": "haw947XOgY4N"
      },
      "source": [
        "Com desvio padrão populacional conhecido\n",
        "\n",
        " $$\\mu = \\bar{x} \\pm z_{\\alpha/2}\\frac{\\sigma}{\\sqrt{n}} = \\bar{x} \\pm e$$\n",
        "\n",
        " Com desvio padrão populacional desconhecido\n",
        "\n",
        " $$\\mu = \\bar{x} \\pm z_{\\alpha/2}\\frac{s}{\\sqrt{n}}$$"
      ]
    },
    {
      "cell_type": "markdown",
      "metadata": {
        "id": "ouPsH2O79-Zp"
      },
      "source": [
        "###**QUESTÃO 01**\n",
        "\n",
        "**Se uma amostra aleatória n=250, tem uma média amostral de 51,3 e uma desvio padrão populacional de σ=2. Construa o intervalo com 95% de confiança para a média populacional μ.**"
      ]
    },
    {
      "cell_type": "code",
      "metadata": {
        "id": "lO5ZR7cx92Fw"
      },
      "source": [
        "#Dados da questão: \n",
        "\n",
        "confianca = 0.95\n",
        "significancia= 1- confianca \n",
        "tamanho_amostra_q1 = 250\n",
        "grau_liberdade_q1 = tamanho_amostra_q1 - 1\n",
        "media_amostral_q1 = 51.3\n",
        "desvio_populacional_q1 = 2"
      ],
      "execution_count": 53,
      "outputs": []
    },
    {
      "cell_type": "code",
      "metadata": {
        "colab": {
          "base_uri": "https://localhost:8080/"
        },
        "id": "TKsW65plcg8v",
        "outputId": "556e6d04-f40d-47e9-c5d0-07f638fe10cf"
      },
      "source": [
        "# T de alfa:\n",
        "t_alpha_q1 = t_student.ppf(confianca + significancia / 2, df=grau_liberdade_q1)\n",
        "print(f\" O t alfa é : {t_alpha_q1.round(2)}\")\n"
      ],
      "execution_count": 42,
      "outputs": [
        {
          "output_type": "stream",
          "name": "stdout",
          "text": [
            " O t alfa é : 1.97\n"
          ]
        }
      ]
    },
    {
      "cell_type": "code",
      "metadata": {
        "colab": {
          "base_uri": "https://localhost:8080/"
        },
        "id": "DCYJeb-uctl_",
        "outputId": "678b62db-f55d-47a4-f10b-72ddb61e1950"
      },
      "source": [
        "# Erro da amostra:\n",
        "erro_q1 = t_alpha_q1 * (desvio_populacional_q1 / np.sqrt(tamanho_amostra_q1))\n",
        "print(f\" O erro é : {erro_q1.round(2)}\")"
      ],
      "execution_count": 43,
      "outputs": [
        {
          "output_type": "stream",
          "name": "stdout",
          "text": [
            " O erro é : 0.25\n"
          ]
        }
      ]
    },
    {
      "cell_type": "code",
      "metadata": {
        "colab": {
          "base_uri": "https://localhost:8080/"
        },
        "id": "B2afYVCTc_ZB",
        "outputId": "2b0e6757-174b-4c4d-cc43-b74eb322cd1f"
      },
      "source": [
        "#Intervalo de confiança (media amostral - erro, media amostral + erro): \n",
        "\n",
        "menor_valor_intervalo_q1 = (media_amostral_q1 - erro_q1).round(2)\n",
        "maior_valor_intervalo_q1 = (media_amostral_q1 + erro_q1).round(2)\n",
        "\n",
        "print(f\" O intervalo de confiança é : {(menor_valor_intervalo_q1,  maior_valor_intervalo_q1)}\")"
      ],
      "execution_count": 44,
      "outputs": [
        {
          "output_type": "stream",
          "name": "stdout",
          "text": [
            " O intervalo de confiança é : (51.05, 51.55)\n"
          ]
        }
      ]
    },
    {
      "cell_type": "markdown",
      "metadata": {
        "id": "RX0PedBR_kOW"
      },
      "source": [
        "###**QUESTÃO 02**\n",
        "\n",
        "**Sabe-se que a vida em horas de um bulbo de lâmpada de 75 W é distribuída de forma aproximadamente normal com desvio padrão de σ = 25. Uma amostra aleatória de 200 bulbos tem uma vida media de 1.014 horas. Construa um intervalo de confiança de 95% para a vida média.**"
      ]
    },
    {
      "cell_type": "code",
      "metadata": {
        "id": "qXQRSzMcewdz"
      },
      "source": [
        "#Dados da questão: \n",
        "\n",
        "confianca = 0.95\n",
        "significancia= 1- confianca \n",
        "tamanho_amostra_q2 = 200\n",
        "grau_liberdade_q2 = tamanho_amostra_q2 - 1\n",
        "media_amostral_q2 = 1014\n",
        "desvio_populacional_q2 = 25"
      ],
      "execution_count": 54,
      "outputs": []
    },
    {
      "cell_type": "code",
      "metadata": {
        "colab": {
          "base_uri": "https://localhost:8080/"
        },
        "id": "tKSymJfFew6A",
        "outputId": "367ef564-f022-4b61-df61-f41f21174397"
      },
      "source": [
        "# T de alfa:\n",
        "t_alpha_q2 = t_student.ppf(confianca + significancia / 2, df=grau_liberdade_q2)\n",
        "print(f\" O t alfa é : {t_alpha_q2.round(2)}\")"
      ],
      "execution_count": 48,
      "outputs": [
        {
          "output_type": "stream",
          "name": "stdout",
          "text": [
            " O t alfa é : 1.97\n"
          ]
        }
      ]
    },
    {
      "cell_type": "code",
      "metadata": {
        "colab": {
          "base_uri": "https://localhost:8080/"
        },
        "id": "3yTJwEPsfKYX",
        "outputId": "52d23c07-2b18-4992-8e92-b917974b03e0"
      },
      "source": [
        "# Erro da amostra:\n",
        "erro_q2 = t_alpha_q2 * (desvio_populacional_q2 / np.sqrt(tamanho_amostra_q2))\n",
        "print(f\" O erro é : {erro_q2.round(2)}\")"
      ],
      "execution_count": 49,
      "outputs": [
        {
          "output_type": "stream",
          "name": "stdout",
          "text": [
            " O erro é : 3.49\n"
          ]
        }
      ]
    },
    {
      "cell_type": "code",
      "metadata": {
        "colab": {
          "base_uri": "https://localhost:8080/"
        },
        "id": "IUoI41yCfR1L",
        "outputId": "d0f59f63-ab4f-4e06-e1c2-766199a42fd6"
      },
      "source": [
        "#Intervalo de confiança (media amostral - erro, media amostral + erro): \n",
        "\n",
        "menor_valor_intervalo_q2 = (media_amostral_q2 - erro_q2).round(2)\n",
        "maior_valor_intervalo_q2 = (media_amostral_q2 + erro_q2).round(2)\n",
        "\n",
        "print(f\" O intervalo de confiança é : {(menor_valor_intervalo_q2,  maior_valor_intervalo_q2)}\")"
      ],
      "execution_count": 50,
      "outputs": [
        {
          "output_type": "stream",
          "name": "stdout",
          "text": [
            " O intervalo de confiança é : (1010.51, 1017.49)\n"
          ]
        }
      ]
    },
    {
      "cell_type": "markdown",
      "metadata": {
        "id": "MLVVxj0n_vkg"
      },
      "source": [
        "###**QUESTÃO 03**\n",
        "\n",
        "**Qual deve ser o tamanho da amostra para que o intervalo com 99,5% de confiança para a média populacional tenha uma semi-amplitude (ou erro) não superior a 1,5? Sabe-se que a variância populacional é de 23.**"
      ]
    },
    {
      "cell_type": "code",
      "metadata": {
        "colab": {
          "base_uri": "https://localhost:8080/"
        },
        "id": "QNyt3RTUftcm",
        "outputId": "c6384242-c3ea-4954-bfc3-c89c5a087478"
      },
      "source": [
        "#Dados da questão: \n",
        "\n",
        "confianca_q3 = 0.995\n",
        "significancia_q3 = 1 - confianca_q3 \n",
        "varianca_populacional_q3 = 23\n",
        "desvio_amostral_q3 = np.sqrt(varianca_populacional_q3)\n",
        "print(f\" O desvio padrão calculado através da variância é : {desvio_amostral_q3.round(2)}\")\n",
        "#erro tem que ser menor que 1.5 "
      ],
      "execution_count": 53,
      "outputs": [
        {
          "output_type": "stream",
          "name": "stdout",
          "text": [
            " O desvio padrão calculado através da variância é : 4.8\n"
          ]
        }
      ]
    },
    {
      "cell_type": "code",
      "metadata": {
        "colab": {
          "base_uri": "https://localhost:8080/"
        },
        "id": "EFljSub89kTG",
        "outputId": "02513031-2139-42b0-fb08-bde5583b38b9"
      },
      "source": [
        "z_alpha_q3 = norm.ppf(confianca_q3 +(significancia_q3/2))\n",
        "print(f\" O Z de alpha é : {z_alpha_q3.round(2)}\")"
      ],
      "execution_count": 54,
      "outputs": [
        {
          "output_type": "stream",
          "name": "stdout",
          "text": [
            " O Z de alpha é : 2.81\n"
          ]
        }
      ]
    },
    {
      "cell_type": "code",
      "metadata": {
        "colab": {
          "base_uri": "https://localhost:8080/"
        },
        "id": "aWqQImY79kvH",
        "outputId": "9239b5c2-4153-4f95-8f21-cb41a8dc9905"
      },
      "source": [
        "#calculando o tamanho mínimo da amostra para um erro máximo de 0.8: \n",
        "\n",
        "erro_maximo_q3 = 1.5\n",
        "n_minimo_q3 = (z_alpha_q3 * desvio_amostral_q3 / erro_maximo_q3)**2\n",
        "n_q3 = round(np.ceil(n_minimo_q3)) # arredondando o valor para número inteiro.\n",
        "print(f\" O tamanho mínimo da amostra para um erro máximo de 1,5 é : {n_q3}\")"
      ],
      "execution_count": 55,
      "outputs": [
        {
          "output_type": "stream",
          "name": "stdout",
          "text": [
            " O tamanho mínimo da amostra para um erro máximo de 1,5 é : 81\n"
          ]
        }
      ]
    },
    {
      "cell_type": "code",
      "metadata": {
        "colab": {
          "base_uri": "https://localhost:8080/"
        },
        "id": "OJ67SDV0FLO7",
        "outputId": "dce946b4-df16-482f-bde4-925530c9b324"
      },
      "source": [
        "#tirando a prova através do erro: \n",
        "\n",
        "erro_atual_q3= z_alpha_q3 * desvio_amostral_q3 / np.sqrt(n_q3)\n",
        "print(f\" O erro corrigido com amostra de tamanho 81 : {erro_atual_q3.round(2)}\")"
      ],
      "execution_count": 57,
      "outputs": [
        {
          "output_type": "stream",
          "name": "stdout",
          "text": [
            " O erro corrigido com amostra de tamanho 81 : 1.5\n"
          ]
        }
      ]
    },
    {
      "cell_type": "markdown",
      "metadata": {
        "id": "LMI4QIwf_3b9"
      },
      "source": [
        "### **QUESTÃO 04** \n",
        "\n",
        "**Uma marca particular de margarina diet foi analisada para determinar o nível em porcentagem de ácidos graxos insaturados. Uma amostra de seis pacotes resultou nos seguintes dados: 16.8, 17.2, 17.4, 16.9, 16.5, 17.1 . Encontre o intervalo de confiança de 99% para a amostra.**"
      ]
    },
    {
      "cell_type": "code",
      "metadata": {
        "colab": {
          "base_uri": "https://localhost:8080/"
        },
        "id": "AK7y8QcbgFxQ",
        "outputId": "6b3dd890-0beb-42ae-ed0f-e9bad1ad8ea3"
      },
      "source": [
        "#Dados da questão: \n",
        "dados_amostra_q4 = np.array([16.8, 17.2, 17.4, 16.9, 16.5, 17.1])\n",
        "print(f\" Os dados da amostra: {dados_amostra_q4}\")\n",
        "tamanho_amostra_q4 = len(dados_amostra_q4)\n",
        "print(f\" O tamanho da amostra: {tamanho_amostra_q4}\")"
      ],
      "execution_count": 3,
      "outputs": [
        {
          "output_type": "stream",
          "name": "stdout",
          "text": [
            " Os dados da amostra: [16.8 17.2 17.4 16.9 16.5 17.1]\n",
            " O tamanho da amostra: 6\n"
          ]
        }
      ]
    },
    {
      "cell_type": "code",
      "metadata": {
        "id": "cCYtGc0U5aJw"
      },
      "source": [
        "confianca_q4 = 0.99\n",
        "significancia_q4 = 1 - confianca_q4\n",
        "graus_liberdade_q4 = tamanho_amostra_q4-1 \n"
      ],
      "execution_count": 9,
      "outputs": []
    },
    {
      "cell_type": "code",
      "metadata": {
        "colab": {
          "base_uri": "https://localhost:8080/"
        },
        "id": "sKPvxKVN5EMP",
        "outputId": "ab4b5e22-ccce-41f4-b053-288d279eca8d"
      },
      "source": [
        "# Media amostral: \n",
        "media_amostral_q4 = dados_amostra_q4.mean()\n",
        "print(f\" A média amostral é : {media_amostral_q4.round(2)}\")\n"
      ],
      "execution_count": 7,
      "outputs": [
        {
          "output_type": "stream",
          "name": "stdout",
          "text": [
            " A média amostral é : 16.98\n"
          ]
        }
      ]
    },
    {
      "cell_type": "code",
      "metadata": {
        "colab": {
          "base_uri": "https://localhost:8080/"
        },
        "id": "4M9vCHVT56E0",
        "outputId": "6267be98-f8d8-40eb-898a-c405f3958ee5"
      },
      "source": [
        "# Desvio amostral: \n",
        "desvio_amostral_q4 = dados_amostra_q4.std()\n",
        "print(f\" O desvio amostral é : {desvio_amostral_q4.round(2)}\")"
      ],
      "execution_count": 8,
      "outputs": [
        {
          "output_type": "stream",
          "name": "stdout",
          "text": [
            " O desvio amostral é : 0.29\n"
          ]
        }
      ]
    },
    {
      "cell_type": "code",
      "metadata": {
        "colab": {
          "base_uri": "https://localhost:8080/"
        },
        "id": "Cbb46yvu6DH1",
        "outputId": "be8c48a1-e410-4791-d581-8afb4c4ec7fe"
      },
      "source": [
        "# T de alfa: \n",
        "\n",
        "t_alpha_q4 = t_student.ppf(confianca_q4 + significancia_q4/2 , df= graus_liberdade_q4)\n",
        "print(f\" O t alfa é : {t_alpha_q4.round(2)}\")"
      ],
      "execution_count": 12,
      "outputs": [
        {
          "output_type": "stream",
          "name": "stdout",
          "text": [
            " O t alfa é : 4.03\n"
          ]
        }
      ]
    },
    {
      "cell_type": "code",
      "metadata": {
        "colab": {
          "base_uri": "https://localhost:8080/"
        },
        "id": "Zh-bXwly7tyN",
        "outputId": "7c5fa7f4-8eb7-4fa5-bfe4-73c6dce0a584"
      },
      "source": [
        "# Erro amostral:\n",
        "erro_q4 = t_alpha_q4*(desvio_amostral_q4/np.sqrt(tamanho_amostra_q4))\n",
        "print(f\" O erro é : {erro_q4.round(2)}\")\n"
      ],
      "execution_count": 14,
      "outputs": [
        {
          "output_type": "stream",
          "name": "stdout",
          "text": [
            " O erro é : 0.48\n"
          ]
        }
      ]
    },
    {
      "cell_type": "code",
      "metadata": {
        "colab": {
          "base_uri": "https://localhost:8080/"
        },
        "id": "0lsBEeHJ8KFM",
        "outputId": "aa50990f-25e9-43f7-8011-0678a2294be0"
      },
      "source": [
        "#Intervalo de confiança: \n",
        "\n",
        "menor_valor_intervalo_q4 = (media_amostral_q4 - erro_q4).round(2)\n",
        "maior_valor_intervalo_q4 = (media_amostral_q4 + erro_q4).round(2)\n",
        "\n",
        "print(f\" O intervalo de confiança é : {(menor_valor_intervalo_q4,  maior_valor_intervalo_q4)}\")\n"
      ],
      "execution_count": 17,
      "outputs": [
        {
          "output_type": "stream",
          "name": "stdout",
          "text": [
            " O intervalo de confiança é : (16.5, 17.46)\n"
          ]
        }
      ]
    },
    {
      "cell_type": "markdown",
      "metadata": {
        "id": "IhzMI6Db_9zY"
      },
      "source": [
        "###**QUESTÃO 05**\n",
        "\n",
        "**Uma amostra piloto com 12 elementos tem média de 6,7 e desvio padrão de 1,7. Qual deve ser o tamanho da amostra para que a semi amplitude (erro) do intervalo de 99,5% de confiança da média populacional não seja superior a 0,8.**"
      ]
    },
    {
      "cell_type": "code",
      "metadata": {
        "id": "FMqMXXtg_bsU"
      },
      "source": [
        "tamanho_amostra_q5 = 12\n",
        "media_amostral_q5 = 6.7\n",
        "desvio_amostral_q5 = 1.7 \n",
        "confianca_q5 = 0.995\n",
        "significancia_q5 = 1 - confianca_q5 \n",
        "graus_liberdade_q5 = tamanho_amostra_q5 - 1\n"
      ],
      "execution_count": 21,
      "outputs": []
    },
    {
      "cell_type": "code",
      "metadata": {
        "colab": {
          "base_uri": "https://localhost:8080/"
        },
        "id": "q7BLR7so_-GF",
        "outputId": "9cba0f79-dee6-4d43-a259-dbf09104681f"
      },
      "source": [
        "\n",
        "#testando o erro com a amostra informada no enunciado:\n",
        "\n",
        "# T de alfa: \n",
        "\n",
        "t_alpha_q5 = t_student.ppf(confianca_q5 + significancia_q5/2 , df= graus_liberdade_q5)\n",
        "print(f\" O t alfa é : {t_alpha_q5.round(2)}\")\n",
        "\n",
        "# Erro amostral:\n",
        "erro_q5 = t_alpha_q5*(desvio_amostral_q5/np.sqrt(tamanho_amostra_q5))\n",
        "print(f\" O erro é : {erro_q5.round(2)}\")\n"
      ],
      "execution_count": 22,
      "outputs": [
        {
          "output_type": "stream",
          "name": "stdout",
          "text": [
            " O t alfa é : 3.5\n",
            " O erro é : 1.72\n"
          ]
        }
      ]
    },
    {
      "cell_type": "code",
      "metadata": {
        "colab": {
          "base_uri": "https://localhost:8080/"
        },
        "id": "mfxh9-H1AUs7",
        "outputId": "574d3eb5-d298-4017-cb72-05a6f2727c23"
      },
      "source": [
        "z_alpha_q5 = norm.ppf(confianca_q5 +(significancia_q5/2))\n",
        "print(f\" O Z de alpha é : {z_alpha_q5.round(2)}\")"
      ],
      "execution_count": 46,
      "outputs": [
        {
          "output_type": "stream",
          "name": "stdout",
          "text": [
            " O Z de alpha é : 2.81\n"
          ]
        }
      ]
    },
    {
      "cell_type": "code",
      "metadata": {
        "colab": {
          "base_uri": "https://localhost:8080/"
        },
        "id": "qXk4cG32CQMu",
        "outputId": "773a2714-e7b2-42df-f2c1-f14cd519328d"
      },
      "source": [
        "#calculando o tamanho mínimo da amostra para um erro máximo de 0.8: \n",
        "\n",
        "erro_maximo_q5 = 0.8 \n",
        "n_minimo_q5 = (z_alpha_q5 * desvio_amostral_q5 / erro_maximo_q5)**2\n",
        "n_q5 = round(np.ceil(n_minimo_q5)) # arredondando o valor para número inteiro.\n",
        "print(f\" O tamanho mínimo da amostra para um erro máximo de 0,8 é : {n_q5}\")\n"
      ],
      "execution_count": 47,
      "outputs": [
        {
          "output_type": "stream",
          "name": "stdout",
          "text": [
            " O tamanho mínimo da amostra para um erro máximo de 0,8 é : 36\n"
          ]
        }
      ]
    },
    {
      "cell_type": "code",
      "metadata": {
        "colab": {
          "base_uri": "https://localhost:8080/"
        },
        "id": "MTja0lmVDNuQ",
        "outputId": "842455c4-74e1-4674-ba80-ffebb5e85cb3"
      },
      "source": [
        "#tirando a prova através do erro: \n",
        "\n",
        "erro_atual_q5 = z_alpha_q5 * desvio_amostral_q5 / np.sqrt(n_q5)\n",
        "print(f\" O erro corrigido com amostra de tamanho 36 : {erro_atual_q5.round(2)}\")"
      ],
      "execution_count": 48,
      "outputs": [
        {
          "output_type": "stream",
          "name": "stdout",
          "text": [
            " O erro corrigido com amostra de tamanho 36 : 0.8\n"
          ]
        }
      ]
    },
    {
      "cell_type": "markdown",
      "metadata": {
        "id": "Kt-umIssAGRQ"
      },
      "source": [
        "###**QUESTÃO 06**\n",
        "\n",
        "**Calcular o intervalo de confiança de 95% para a seguinte amostra, com variância populacional desconhecida:**\n",
        "\n",
        "**19.8; 18.5; 17.6; 16.7; 15.8; 15.4; 14.1; 13.6; 11.9; 11.4; 11.4; 8.8; 7.5; 15.4; 15.4; 19.5; 14.9; 12.7; 11.9; 11.4; 10.1; 7.9**"
      ]
    },
    {
      "cell_type": "code",
      "metadata": {
        "colab": {
          "base_uri": "https://localhost:8080/"
        },
        "id": "3slBFRhdX53P",
        "outputId": "b3ebd73f-2b90-4f97-a8e5-fd939fc848a7"
      },
      "source": [
        "#Criando um array com os dados da amostra:\n",
        "dados_amostra = np.array([19.8, 18.5, 17.6, 16.7, 15.8, 15.4, 14.1, 13.6, 11.9, 11.4, 11.4, 8.8, 7.5, 15.4, 15.4, 19.5, 14.9, 12.7, 11.9, 11.4, 10.1, 7.9])\n",
        "dados_amostra"
      ],
      "execution_count": 13,
      "outputs": [
        {
          "output_type": "execute_result",
          "data": {
            "text/plain": [
              "array([19.8, 18.5, 17.6, 16.7, 15.8, 15.4, 14.1, 13.6, 11.9, 11.4, 11.4,\n",
              "        8.8,  7.5, 15.4, 15.4, 19.5, 14.9, 12.7, 11.9, 11.4, 10.1,  7.9])"
            ]
          },
          "metadata": {},
          "execution_count": 13
        }
      ]
    },
    {
      "cell_type": "code",
      "metadata": {
        "id": "gkLmBNoIYh4j"
      },
      "source": [
        "#Dados do problema: \n",
        "confianca = 0.95\n",
        "significancia= 1 - confianca \n",
        "tamanho_amostra_q6 = len(dados_amostra)\n",
        "grau_liberdade_q6 = tamanho_amostra_q6 -1 "
      ],
      "execution_count": 14,
      "outputs": []
    },
    {
      "cell_type": "code",
      "metadata": {
        "colab": {
          "base_uri": "https://localhost:8080/"
        },
        "id": "Sn03AnM0Y5FV",
        "outputId": "6ca4a75e-ce10-4383-cede-93785fbb5a45"
      },
      "source": [
        "# Média amostral:\n",
        "media_amostra_q6 = dados_amostra.mean()\n",
        "print(f\" A média amostral é : {media_amostra_q6.round(2)}\")"
      ],
      "execution_count": 34,
      "outputs": [
        {
          "output_type": "stream",
          "name": "stdout",
          "text": [
            " A média amostral é : 13.71\n"
          ]
        }
      ]
    },
    {
      "cell_type": "code",
      "metadata": {
        "colab": {
          "base_uri": "https://localhost:8080/"
        },
        "id": "WWahqzfzZCwB",
        "outputId": "c9ef88e3-6e75-45ab-9a29-e1f6f7f3e37f"
      },
      "source": [
        "# Desvio amostral:\n",
        "desvio_amostra_q6 = dados_amostra.std()\n",
        "print(f\" O desvio amostral é : {desvio_amostra_q6.round(2)}\")\n"
      ],
      "execution_count": 35,
      "outputs": [
        {
          "output_type": "stream",
          "name": "stdout",
          "text": [
            " O desvio amostral é : 3.47\n"
          ]
        }
      ]
    },
    {
      "cell_type": "markdown",
      "metadata": {
        "id": "lKXl6IF8ZdKP"
      },
      "source": [
        "$$\n",
        "    \\epsilon = t_{\\alpha/2} \\times\\frac{s}{\\sqrt{n}} \n",
        "$$\n"
      ]
    },
    {
      "cell_type": "code",
      "metadata": {
        "colab": {
          "base_uri": "https://localhost:8080/"
        },
        "id": "6HN4zt7GZlmM",
        "outputId": "b1fce2c4-0566-415c-d920-2b6e2d5e42e5"
      },
      "source": [
        "# T de alfa:\n",
        "t_alpha_q6 = t_student.ppf(confianca + significancia / 2, df=grau_liberdade_q6)\n",
        "print(f\" O t alfa é : {t_alpha_q6.round(2)}\")\n"
      ],
      "execution_count": 33,
      "outputs": [
        {
          "output_type": "stream",
          "name": "stdout",
          "text": [
            " O t alfa é : 2.08\n"
          ]
        }
      ]
    },
    {
      "cell_type": "code",
      "metadata": {
        "colab": {
          "base_uri": "https://localhost:8080/"
        },
        "id": "CDmP8Y4LZ98W",
        "outputId": "ca6831d3-ce35-420e-e602-f79fce43fe76"
      },
      "source": [
        "# Erro da amostra:\n",
        "erro_q6 = t_alpha_q6 * (desvio_amostra_q6 / np.sqrt(tamanho_amostra_q6))\n",
        "print(f\" O erro é : {erro_q6.round(2)}\")\n"
      ],
      "execution_count": 32,
      "outputs": [
        {
          "output_type": "stream",
          "name": "stdout",
          "text": [
            " O erro é : 1.54\n"
          ]
        }
      ]
    },
    {
      "cell_type": "code",
      "metadata": {
        "colab": {
          "base_uri": "https://localhost:8080/"
        },
        "id": "xMKtvaAPac4V",
        "outputId": "7151e7e2-16c5-43aa-e212-55bcb1968b13"
      },
      "source": [
        "#Intervalo de confiança (media amostral - erro, media amostral + erro): \n",
        "\n",
        "menor_valor_intervalo = (media_amostra_q6 - erro_q6).round(2)\n",
        "maior_valor_intervalo = (media_amostra_q6 + erro_q6).round(2)\n",
        "\n",
        "print(f\" O intervalo de confiança é : {(menor_valor_intervalo,  maior_valor_intervalo)}\")"
      ],
      "execution_count": 31,
      "outputs": [
        {
          "output_type": "stream",
          "name": "stdout",
          "text": [
            " O intervalo de confiança é : (12.17, 15.25)\n"
          ]
        }
      ]
    }
  ]
}